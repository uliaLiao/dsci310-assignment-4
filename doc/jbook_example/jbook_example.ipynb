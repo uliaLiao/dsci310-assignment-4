{
 "cells": [
  {
   "cell_type": "code",
   "execution_count": 2,
   "metadata": {
    "tags": [
     "remove-cell"
    ]
   },
   "outputs": [],
   "source": [
    "import pandas as pd\n",
    "from myst_nb import glue"
   ]
  },
  {
   "cell_type": "markdown",
   "metadata": {},
   "source": [
    "# Aim\n",
    "\n",
    "This project explores the historical population of horses in Canada\n",
    "between 1906 and 1972 for each province."
   ]
  },
  {
   "attachments": {},
   "cell_type": "markdown",
   "metadata": {},
   "source": [
    "# Data\n",
    "\n",
    "Horse population data were sourced from the [Government of Canada's Open Data website](http://open.canada.ca/en/open-data).\n",
    "Specifically, {cite:p}`horses1` 1 and {cite:ps}`horses2` 2."
   ]
  },
  {
   "attachments": {},
   "cell_type": "markdown",
   "metadata": {},
   "source": [
    "# Methods\n",
    "\n",
    "The R programming language {cite:ps}`R` and the following R packages were used\n",
    "to perform the analysis: knitr {cite:ps}`knitr`, tidyverse {cite:ps}`tidyverse`, and\n",
    "bookdown {cite:ps}`bookdown`.\n",
    "_Note: this report is adapted from {cite:ps}`ttimbers_horses`._"
   ]
  },
  {
   "attachments": {},
   "cell_type": "markdown",
   "metadata": {},
   "source": [
    "# Results"
   ]
  },
  {
   "attachments": {},
   "cell_type": "markdown",
   "metadata": {},
   "source": [
    "```{figure} ../../results/horse_pops_plot.png\n",
    "---\n",
    "name: horse-pops\n",
    "---\n",
    "Horse populations for all provinces in Canada from 1906 - 1972\n",
    "\n",
    "```\n",
    "\n",
    "\n",
    "We can see from {numref}`Figure {number}: {name} <horse-pops>`\n",
    "that Ontario, Saskatchewan and Alberta have had the highest horse populations in Canada.\n",
    "All provinces have had a decline in horse populations since 1940.\n",
    "This is likely due to the rebound of the Canadian automotive\n",
    "industry after the Great Depression and the Second World War.\n",
    "An interesting follow-up visualisation would be car sales per year for each\n",
    "Province over the time period visualised above to further support this hypothesis. "
   ]
  },
  {
   "cell_type": "code",
   "execution_count": 25,
   "metadata": {
    "tags": [
     "hide-cell"
    ]
   },
   "outputs": [
    {
     "data": {
      "application/papermill.record/text/plain": "'Saskatchewan'"
     },
     "metadata": {
      "scrapbook": {
       "mime_prefix": "application/papermill.record/",
       "name": "largest-sd-prov"
      }
     },
     "output_type": "display_data"
    },
    {
     "data": {
      "application/papermill.record/text/html": "<div>\n<style scoped>\n    .dataframe tbody tr th:only-of-type {\n        vertical-align: middle;\n    }\n\n    .dataframe tbody tr th {\n        vertical-align: top;\n    }\n\n    .dataframe thead th {\n        text-align: right;\n    }\n</style>\n<table border=\"1\" class=\"dataframe\">\n  <thead>\n    <tr style=\"text-align: right;\">\n      <th></th>\n      <th>Province</th>\n      <th>Std</th>\n    </tr>\n  </thead>\n  <tbody>\n    <tr>\n      <th>0</th>\n      <td>Saskatchewan</td>\n      <td>377265.575896</td>\n    </tr>\n    <tr>\n      <th>1</th>\n      <td>Ontario</td>\n      <td>266435.317269</td>\n    </tr>\n    <tr>\n      <th>2</th>\n      <td>Alberta</td>\n      <td>266063.191824</td>\n    </tr>\n    <tr>\n      <th>3</th>\n      <td>Manitoba</td>\n      <td>122403.871037</td>\n    </tr>\n    <tr>\n      <th>4</th>\n      <td>Quebec</td>\n      <td>111411.104370</td>\n    </tr>\n    <tr>\n      <th>5</th>\n      <td>New Brunswick</td>\n      <td>22019.494316</td>\n    </tr>\n    <tr>\n      <th>6</th>\n      <td>Nova Scotia</td>\n      <td>19879.253759</td>\n    </tr>\n    <tr>\n      <th>7</th>\n      <td>British Columbia</td>\n      <td>14945.664171</td>\n    </tr>\n    <tr>\n      <th>8</th>\n      <td>P.E.I.</td>\n      <td>11355.747559</td>\n    </tr>\n  </tbody>\n</table>\n</div>",
      "application/papermill.record/text/plain": "           Province            Std\n0      Saskatchewan  377265.575896\n1           Ontario  266435.317269\n2           Alberta  266063.191824\n3          Manitoba  122403.871037\n4            Quebec  111411.104370\n5     New Brunswick   22019.494316\n6       Nova Scotia   19879.253759\n7  British Columbia   14945.664171\n8            P.E.I.   11355.747559"
     },
     "metadata": {
      "scrapbook": {
       "mime_prefix": "application/papermill.record/",
       "name": "horses-tbl"
      }
     },
     "output_type": "display_data"
    }
   ],
   "source": [
    "horses_sd = pd.read_csv(\"../../results/horses_sd.csv\")\n",
    "\n",
    "largest_sd_prov = str(horses_sd['Province'][0])\n",
    "\n",
    "glue(\"largest-sd-prov\", largest_sd_prov,display=False)\n",
    "\n",
    "glue(\"horses-tbl\", horses_sd,display=False)"
   ]
  },
  {
   "attachments": {},
   "cell_type": "markdown",
   "metadata": {},
   "source": [
    "Suppose we were interested in looking in more closely at the\n",
    "province with the highest spread (in terms of standard deviation)\n",
    "of horse populations. We present the standard deviations here:\n",
    "\n",
    "```{glue:figure} horses-tbl\n",
    "---\n",
    "figwidth: 500px\n",
    "name: horses-tbl-fig\n",
    "---\n",
    "\n",
    "Standard deviation of number of horses for each province between 1940 - 1972\n",
    "```\n",
    "\n",
    "\n",
    "\n",
    "Note that we define standard deviation (of a sample) as:\n",
    "\n",
    "$$s = \\sqrt{\\sum_{i = 1}^n(x_i - \\bar{x}) / (n-1)}.$$\n",
    "\n",
    "Additionally, note that in {numref}`Figure {number}: {name} <horses-tbl-fig>`. we\n",
    "consider the sample standard deviation of the number of horses\n",
    "during the same time span as {numref}`Figure {number}: {name} <horse-pops>`."
   ]
  },
  {
   "attachments": {},
   "cell_type": "markdown",
   "metadata": {},
   "source": [
    ":::{figure-md} large-sd\n",
    "<img src=\"../../results/horse_pop_plot_largest_sd.png\" width=\"500px\">\n",
    "\n",
    "Horse populations for the province with the largest standard deviation\n",
    ":::\n",
    "\n",
    "In {numref}`Figure {number}: {name} <large-sd>` we zoom in\n",
    "on the province of {glue:text}`largest-sd-prov`, which had the largest spread of values in\n",
    "terms of standard deviation."
   ]
  },
  {
   "attachments": {},
   "cell_type": "markdown",
   "metadata": {},
   "source": [
    "```{bibliography}\n",
    "```"
   ]
  }
 ],
 "metadata": {
  "celltoolbar": "Edit Metadata",
  "kernelspec": {
   "display_name": "Python 3 (ipykernel)",
   "language": "python",
   "name": "python3"
  },
  "language_info": {
   "codemirror_mode": {
    "name": "ipython",
    "version": 3
   },
   "file_extension": ".py",
   "mimetype": "text/x-python",
   "name": "python",
   "nbconvert_exporter": "python",
   "pygments_lexer": "ipython3",
   "version": "3.10.8"
  }
 },
 "nbformat": 4,
 "nbformat_minor": 4
}
